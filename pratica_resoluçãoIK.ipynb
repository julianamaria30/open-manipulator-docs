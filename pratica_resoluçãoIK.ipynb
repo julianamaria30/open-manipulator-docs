{
  "nbformat": 4,
  "nbformat_minor": 0,
  "metadata": {
    "colab": {
      "name": "pratica-resoluçãoIK.ipynb",
      "provenance": [],
      "collapsed_sections": [
        "2CCUWqvriv2a",
        "1zoudM6osI9k",
        "hXFf1VX4up7E",
        "aOxJOwAWvRL4",
        "fnffzd8mlT5r"
      ],
      "include_colab_link": true
    },
    "kernelspec": {
      "name": "python3",
      "display_name": "Python 3"
    },
    "language_info": {
      "name": "python"
    }
  },
  "cells": [
    {
      "cell_type": "markdown",
      "metadata": {
        "id": "view-in-github",
        "colab_type": "text"
      },
      "source": [
        "<a href=\"https://colab.research.google.com/github/julianamaria30/open-manipulator-docs/blob/master/pratica_resolu%C3%A7%C3%A3oIK.ipynb\" target=\"_parent\"><img src=\"https://colab.research.google.com/assets/colab-badge.svg\" alt=\"Open In Colab\"/></a>"
      ]
    },
    {
      "cell_type": "markdown",
      "metadata": {
        "id": "CJIwUw6XMGSM"
      },
      "source": [
        "#Cinemática Inversa Aplicada\n",
        "A Figura 1 mostra um braço planar de três elos. Como todas as três juntas são rotacionais,\n",
        "esse manipulador é às vezes chamado de mecanismo RRR (ou 3R).\n",
        "<center>\n",
        "\n",
        "![](https://drive.google.com/uc?export=view&id=1B2FYyyHJFMoNYkFpYPLcyI0AvX6k8L4X)\n",
        "<figcaption>Figura 1 - Braço planar de três elos</figcaption>\n",
        "</center>\n",
        "\n",
        "A Figura 2 é uma representação esquemática do mesmo manipulador. Observe as marcas com traços duplos em cada um dos\n",
        "três eixos, indicando que eles são paralelos.\n",
        "\n",
        "<center>\n",
        "\n",
        "![](https://drive.google.com/uc?export=view&id=1RODWHdcKO9hP5W_wDdYWgnU2Tg0sPemN)\n",
        "<figcaption>Figura 2 - Braço planar: Notação esquemática simples</figcaption>\n",
        "</center>\n",
        "\n",
        "Objetivo: Encontrar as equações cinématicas para as juntas do sistema."
      ]
    },
    {
      "cell_type": "markdown",
      "metadata": {
        "id": "Bo7JbkhazCWW"
      },
      "source": [
        "#Atribuir sistemas de referência aos elos do mecanismo"
      ]
    },
    {
      "cell_type": "markdown",
      "metadata": {
        "id": "TIf44h_ozGch"
      },
      "source": [
        "Começamos definindo o sistema de referência fixo, o sistema de referência {0}. Ele é fixo na\n",
        "base e se alinha com o sistema de referência {1} quando a primeira variável de junta ($ \\theta_{1} $) é zero.\n",
        "\n",
        "<center>\n",
        "\n",
        "![](https://drive.google.com/uc?export=view&id=15wzZHPDfkTwmXv9lnc7N2ryWrKL6WkXU)\n",
        "<figcaption>Figura 3 - Atribuição de sistemas de referência a elos.</figcaption>\n",
        "\n",
        "</center>\n",
        "\n",
        "Portanto, posicionamos o sistema de referência {0} como mostra na Figura 3, com $ Ẑ_{0} $ alinhado\n",
        "com o eixo de junta-1. Para esse braço, todos os eixos de junta são orientados de modo perpendicular ao plano do braço. \n",
        "\n",
        "Todas as juntas são rotacionais, de forma que quando\n",
        "estão em zero grau, todos os eixos $\\hat{X}$ têm de se alinhar.\n",
        "\n",
        "Com isso em mente, é fácil encontrar as atribuições de sistema de referência mostradas na Figura 3. "
      ]
    },
    {
      "cell_type": "markdown",
      "metadata": {
        "id": "OE5OJN-xzZg7"
      },
      "source": [
        "#Indicar os parâmetros de Denavit-Hartenberg"
      ]
    },
    {
      "cell_type": "markdown",
      "metadata": {
        "id": "ACp8iCFNzb4R"
      },
      "source": [
        "Os parâmetros de elo são definidos da seguinte maneira:\n",
        "\n",
        "$ a_{i} \\rightarrow$ a distância de $\\hat{Z}_i$ a $\\hat{Z}_{i+1}$ medida ao longo de $\\hat{X}_i$;\n",
        "\n",
        "$ \\alpha_{i} \\rightarrow$ o ângulo de $\\hat{Z}_i$ a $\\hat{Z}_{i+1}$ medida ao longo de $\\hat{X}_i$;\n",
        "\n",
        "$ d_{i} \\rightarrow$ a distância de $\\hat{X}_{i-1}$ a $\\hat{X}_{i}$ medida ao longo de $\\hat{Z}_i$;\n",
        "\n",
        "$ \\theta_{i} \\rightarrow$ o ângulo de $\\hat{X}_{i-1}$ a $\\hat{X}_{i}$ medida ao longo de $\\hat{Z}_i$.\n",
        "\n",
        "<br>\n",
        "\n",
        "<center>\n",
        "\n",
        "![](https://drive.google.com/uc?export=view&id=1DYNN4hIS43oTmDJ7-KZSMtJcCJ3aXKWQ)\n",
        "<figcaption></figcaption>\n",
        "\n",
        "</center>\n",
        "\n",
        "<br>\n",
        "\n",
        "A tabela para este problema possui o seguinte formato:\n",
        "\n",
        "| $ i $ | $\\alpha_{i-1}$ |$a_{i-1} $ | $d_i$  |$\\theta_i$ |\n",
        "|:-----:|:--------------:|:---------:|:------:|:---------:|\n",
        "|   1   |                |           |        |           |              \n",
        "|   2   |                |           |        |           |               \n",
        "|   3   |                |           |        |           |          \n"
      ]
    },
    {
      "cell_type": "markdown",
      "metadata": {
        "id": "YEkVmVh8mHwh"
      },
      "source": [
        "##Solução"
      ]
    },
    {
      "cell_type": "markdown",
      "metadata": {
        "id": "3-vdhkX4mILH"
      },
      "source": [
        "Os parâmetros de elo correspondentes estão indicados na Tabela 1.\n",
        "\n",
        "Observe que como os eixos de juntas são todos paralelos e todos os eixos $\\hat{Z}$ são tomados como apontando para fora da tela, todos os $ \\alpha_{i} $ são zero.\n",
        "\n",
        "Como o braço se situa em um plano com todos os eixos $\\hat{Z}$ paralelos, não há deslocamentos de elo – e todos os  𝑑𝑖  são zero.\n",
        "\n",
        "Todas as juntas são rotacionais, de forma que quando\n",
        "estão em zero grau, todos os eixos $\\hat{X}$ têm de se alinhar.\n",
        "\n",
        "<center>\n",
        "\n",
        "![Braço planar de tres elos](https://drive.google.com/uc?export=view&id=1izqwb26Ee2PEZUJnDAdWsyyWp0x8FDRc)\n",
        "<figcaption>Tabela 1 - Parâmetros dos elos do manipulador planar de três elos.</figcaption>\n",
        "\n",
        "</center>\n",
        "\n",
        "Note, também, que nossa análise cinemática sempre termina em um sistema de referência cuja origem está no último eixo de junta. Portanto, $ l_{3} $ não aparece nos parâmetros de elos."
      ]
    },
    {
      "cell_type": "markdown",
      "metadata": {
        "id": "2CCUWqvriv2a"
      },
      "source": [
        "#Bibliotecas python auxiliares"
      ]
    },
    {
      "cell_type": "code",
      "metadata": {
        "id": "e4bhwTynclgB"
      },
      "source": [
        "import sympy as sp\n",
        "import math as mt"
      ],
      "execution_count": null,
      "outputs": []
    },
    {
      "cell_type": "code",
      "metadata": {
        "id": "WkOeeshkgOz8"
      },
      "source": [
        "from sympy.physics.vector import init_vprinting\n",
        "init_vprinting(use_latex='mathjax', pretty_print=False)"
      ],
      "execution_count": null,
      "outputs": []
    },
    {
      "cell_type": "code",
      "metadata": {
        "id": "caGMxUBenqxE"
      },
      "source": [
        "from sympy.physics.mechanics import dynamicsymbols"
      ],
      "execution_count": null,
      "outputs": []
    },
    {
      "cell_type": "code",
      "metadata": {
        "id": "nkjDtKvcnr8x",
        "colab": {
          "base_uri": "https://localhost:8080/",
          "height": 38
        },
        "outputId": "9923a27a-5d31-412e-a217-ecdd86ca45c5"
      },
      "source": [
        "theta1, theta2, theta3, l1, l2, theta, alpha, a, d, X1, X2, X3, L1, L2, k1, k2, k3, k4 = dynamicsymbols('theta1 theta2 theta3 l1 l2 theta alpha a d X1 X2 X3 L1 L2 k1 k2 k3 k4')\n",
        "theta1, theta2, theta3, l1, l2, theta, alpha, a, d, X1, X2, X3, L1, L2, k1, k2, k3, k4"
      ],
      "execution_count": null,
      "outputs": [
        {
          "output_type": "execute_result",
          "data": {
            "text/latex": "$\\displaystyle \\left( \\theta_{1}, \\  \\theta_{2}, \\  \\theta_{3}, \\  l_{1}, \\  l_{2}, \\  \\theta, \\  \\alpha, \\  a, \\  d, \\  X_{1}, \\  X_{2}, \\  X_{3}, \\  L_{1}, \\  L_{2}, \\  k_{1}, \\  k_{2}, \\  k_{3}, \\  k_{4}\\right)$",
            "text/plain": [
              "(theta1, theta2, theta3, l1, l2, theta, alpha, a, d, X1, X2, X3, L1, L2, k1, k2, k3, k4)"
            ]
          },
          "metadata": {},
          "execution_count": 4
        }
      ]
    },
    {
      "cell_type": "markdown",
      "metadata": {
        "id": "7X2Ni0IIhAW_"
      },
      "source": [
        "#Transformação homogênea\n",
        "\n"
      ]
    },
    {
      "cell_type": "markdown",
      "metadata": {
        "id": "pgMtrHwbnAO0"
      },
      "source": [
        "Para representar sistemas de referência, utilizamos a matriz de transformação homogênea, a qual é uma matriz 4 × 4 contendo informação de orientação e posição. Utilizando os quatro parâmetros dos elos de Denavit-Hartenberg.\n",
        "\n",
        "Esta matriz é a descrição de um sistema de referência. $ _{i}^{i-1}\\textrm{T}$ corresponde a transformação que define o sistema de referência {$i$} em relação ao sistema de referência {$i – 1$}.\n",
        "\n",
        "<center>\n",
        "\n",
        "![Braço planar de tres elos](https://drive.google.com/uc?export=view&id=1qEkobX1L5AFCC6H910oZdWz0iLxgg3-X)\n",
        "\n",
        "</center>\n",
        "\n",
        "Encontre a transformação referente a $ _{3}^{0}\\textrm{T}$, através da multiplicação das matrizes individuais dos elos.\n",
        "\n",
        "$$ \n",
        "_{}^{A}\\textrm{P} = \n",
        "\\begin{bmatrix} \n",
        "  p_{x}\\\\ p_{y}\\\\ p_{z}\\\\ \n",
        "\\end{bmatrix} \n",
        "$$"
      ]
    },
    {
      "cell_type": "code",
      "metadata": {
        "id": "rxVEqI8CkiCz",
        "colab": {
          "base_uri": "https://localhost:8080/",
          "height": 99
        },
        "outputId": "4cb82a98-0ab9-4a3b-bbbc-c70d3616ef51"
      },
      "source": [
        "T01 = sp.Matrix([[sp.cos(theta1), -sp.sin(theta1), 0, 0], [sp.sin(theta1), sp.cos(theta1), 0, 0], [0, 0, 1, 0], [0, 0, 0, 1]])\n",
        "T01"
      ],
      "execution_count": null,
      "outputs": [
        {
          "output_type": "execute_result",
          "data": {
            "text/latex": "$\\displaystyle \\left[\\begin{matrix}\\cos{\\left(\\theta_{1} \\right)} & - \\sin{\\left(\\theta_{1} \\right)} & 0 & 0\\\\\\sin{\\left(\\theta_{1} \\right)} & \\cos{\\left(\\theta_{1} \\right)} & 0 & 0\\\\0 & 0 & 1 & 0\\\\0 & 0 & 0 & 1\\end{matrix}\\right]$",
            "text/plain": [
              "Matrix([\n",
              "[cos(theta1), -sin(theta1), 0, 0],\n",
              "[sin(theta1),  cos(theta1), 0, 0],\n",
              "[          0,            0, 1, 0],\n",
              "[          0,            0, 0, 1]])"
            ]
          },
          "metadata": {},
          "execution_count": 6
        }
      ]
    },
    {
      "cell_type": "code",
      "metadata": {
        "id": "v2c69WNsl1T4",
        "colab": {
          "base_uri": "https://localhost:8080/",
          "height": 99
        },
        "outputId": "825857fd-894f-4ea1-d354-2600a47dab17"
      },
      "source": [
        "T12 = sp.Matrix([[sp.cos(theta2), -sp.sin(theta2), 0, L1], [sp.sin(theta2), sp.cos(theta2), 0, 0], [0, 0, 1, 0], [0, 0, 0, 1]])\n",
        "T12"
      ],
      "execution_count": null,
      "outputs": [
        {
          "output_type": "execute_result",
          "data": {
            "text/latex": "$\\displaystyle \\left[\\begin{matrix}\\cos{\\left(\\theta_{2} \\right)} & - \\sin{\\left(\\theta_{2} \\right)} & 0 & L_{1}\\\\\\sin{\\left(\\theta_{2} \\right)} & \\cos{\\left(\\theta_{2} \\right)} & 0 & 0\\\\0 & 0 & 1 & 0\\\\0 & 0 & 0 & 1\\end{matrix}\\right]$",
            "text/plain": [
              "Matrix([\n",
              "[cos(theta2), -sin(theta2), 0, L1],\n",
              "[sin(theta2),  cos(theta2), 0,  0],\n",
              "[          0,            0, 1,  0],\n",
              "[          0,            0, 0,  1]])"
            ]
          },
          "metadata": {},
          "execution_count": 7
        }
      ]
    },
    {
      "cell_type": "code",
      "metadata": {
        "id": "XgKiANA94hBx",
        "colab": {
          "base_uri": "https://localhost:8080/",
          "height": 99
        },
        "outputId": "a877f0be-47ee-490f-c02a-b4dbb2005eb1"
      },
      "source": [
        "T23 = sp.Matrix([[sp.cos(theta3), -sp.sin(theta3), 0, L2], [sp.sin(theta3), sp.cos(theta3), 0, 0], [0, 0, 1, 0], [0, 0, 0, 1]])\n",
        "T23"
      ],
      "execution_count": null,
      "outputs": [
        {
          "output_type": "execute_result",
          "data": {
            "text/latex": "$\\displaystyle \\left[\\begin{matrix}\\cos{\\left(\\theta_{3} \\right)} & - \\sin{\\left(\\theta_{3} \\right)} & 0 & L_{2}\\\\\\sin{\\left(\\theta_{3} \\right)} & \\cos{\\left(\\theta_{3} \\right)} & 0 & 0\\\\0 & 0 & 1 & 0\\\\0 & 0 & 0 & 1\\end{matrix}\\right]$",
            "text/plain": [
              "Matrix([\n",
              "[cos(theta3), -sin(theta3), 0, L2],\n",
              "[sin(theta3),  cos(theta3), 0,  0],\n",
              "[          0,            0, 1,  0],\n",
              "[          0,            0, 0,  1]])"
            ]
          },
          "metadata": {},
          "execution_count": 8
        }
      ]
    },
    {
      "cell_type": "code",
      "metadata": {
        "id": "CgiGIKceotNB",
        "colab": {
          "base_uri": "https://localhost:8080/",
          "height": 119
        },
        "outputId": "0487c629-8f8f-4e31-cea6-873d65b1d2a3"
      },
      "source": [
        "T03=T01*T12*T23\n",
        "T03"
      ],
      "execution_count": null,
      "outputs": [
        {
          "output_type": "execute_result",
          "data": {
            "text/latex": "$\\displaystyle \\left[\\begin{matrix}\\left(- \\sin{\\left(\\theta_{1} \\right)} \\sin{\\left(\\theta_{2} \\right)} + \\cos{\\left(\\theta_{1} \\right)} \\cos{\\left(\\theta_{2} \\right)}\\right) \\cos{\\left(\\theta_{3} \\right)} + \\left(- \\sin{\\left(\\theta_{1} \\right)} \\cos{\\left(\\theta_{2} \\right)} - \\sin{\\left(\\theta_{2} \\right)} \\cos{\\left(\\theta_{1} \\right)}\\right) \\sin{\\left(\\theta_{3} \\right)} & - \\left(- \\sin{\\left(\\theta_{1} \\right)} \\sin{\\left(\\theta_{2} \\right)} + \\cos{\\left(\\theta_{1} \\right)} \\cos{\\left(\\theta_{2} \\right)}\\right) \\sin{\\left(\\theta_{3} \\right)} + \\left(- \\sin{\\left(\\theta_{1} \\right)} \\cos{\\left(\\theta_{2} \\right)} - \\sin{\\left(\\theta_{2} \\right)} \\cos{\\left(\\theta_{1} \\right)}\\right) \\cos{\\left(\\theta_{3} \\right)} & 0 & \\left(- \\sin{\\left(\\theta_{1} \\right)} \\sin{\\left(\\theta_{2} \\right)} + \\cos{\\left(\\theta_{1} \\right)} \\cos{\\left(\\theta_{2} \\right)}\\right) L_{2} + L_{1} \\cos{\\left(\\theta_{1} \\right)}\\\\\\left(- \\sin{\\left(\\theta_{1} \\right)} \\sin{\\left(\\theta_{2} \\right)} + \\cos{\\left(\\theta_{1} \\right)} \\cos{\\left(\\theta_{2} \\right)}\\right) \\sin{\\left(\\theta_{3} \\right)} + \\left(\\sin{\\left(\\theta_{1} \\right)} \\cos{\\left(\\theta_{2} \\right)} + \\sin{\\left(\\theta_{2} \\right)} \\cos{\\left(\\theta_{1} \\right)}\\right) \\cos{\\left(\\theta_{3} \\right)} & \\left(- \\sin{\\left(\\theta_{1} \\right)} \\sin{\\left(\\theta_{2} \\right)} + \\cos{\\left(\\theta_{1} \\right)} \\cos{\\left(\\theta_{2} \\right)}\\right) \\cos{\\left(\\theta_{3} \\right)} - \\left(\\sin{\\left(\\theta_{1} \\right)} \\cos{\\left(\\theta_{2} \\right)} + \\sin{\\left(\\theta_{2} \\right)} \\cos{\\left(\\theta_{1} \\right)}\\right) \\sin{\\left(\\theta_{3} \\right)} & 0 & \\left(\\sin{\\left(\\theta_{1} \\right)} \\cos{\\left(\\theta_{2} \\right)} + \\sin{\\left(\\theta_{2} \\right)} \\cos{\\left(\\theta_{1} \\right)}\\right) L_{2} + L_{1} \\sin{\\left(\\theta_{1} \\right)}\\\\0 & 0 & 1 & 0\\\\0 & 0 & 0 & 1\\end{matrix}\\right]$",
            "text/plain": [
              "Matrix([\n",
              "[(-sin(theta1)*sin(theta2) + cos(theta1)*cos(theta2))*cos(theta3) + (-sin(theta1)*cos(theta2) - sin(theta2)*cos(theta1))*sin(theta3), -(-sin(theta1)*sin(theta2) + cos(theta1)*cos(theta2))*sin(theta3) + (-sin(theta1)*cos(theta2) - sin(theta2)*cos(theta1))*cos(theta3), 0, (-sin(theta1)*sin(theta2) + cos(theta1)*cos(theta2))*L2 + L1*cos(theta1)],\n",
              "[ (-sin(theta1)*sin(theta2) + cos(theta1)*cos(theta2))*sin(theta3) + (sin(theta1)*cos(theta2) + sin(theta2)*cos(theta1))*cos(theta3),   (-sin(theta1)*sin(theta2) + cos(theta1)*cos(theta2))*cos(theta3) - (sin(theta1)*cos(theta2) + sin(theta2)*cos(theta1))*sin(theta3), 0,  (sin(theta1)*cos(theta2) + sin(theta2)*cos(theta1))*L2 + L1*sin(theta1)],\n",
              "[                                                                                                                                  0,                                                                                                                                    0, 1,                                                                        0],\n",
              "[                                                                                                                                  0,                                                                                                                                    0, 0,                                                                        1]])"
            ]
          },
          "metadata": {},
          "execution_count": 9
        }
      ]
    },
    {
      "cell_type": "code",
      "metadata": {
        "id": "mRzLbYTinm25",
        "colab": {
          "base_uri": "https://localhost:8080/",
          "height": 99
        },
        "outputId": "89f42b0f-89e6-4fb7-c456-25e307d7b635"
      },
      "source": [
        "mbee= sp.Matrix([[T03[0,0].simplify(), T03[0,1].simplify(), 0, sp.trigsimp(T03[0,3].simplify())],\n",
        "                 [T03[1,0].simplify(), T03[1,1].simplify(), 0, sp.trigsimp(T03[1,3].simplify())],\n",
        "                 [T03[2,0].simplify(), T03[2,1].simplify(), 1, 0],\n",
        "                 [0, 0, 0, 1]])\n",
        "\n",
        "mbee"
      ],
      "execution_count": null,
      "outputs": [
        {
          "output_type": "execute_result",
          "data": {
            "text/latex": "$\\displaystyle \\left[\\begin{matrix}\\cos{\\left(\\theta_{1} + \\theta_{2} + \\theta_{3} \\right)} & - \\sin{\\left(\\theta_{1} + \\theta_{2} + \\theta_{3} \\right)} & 0 & L_{1} \\cos{\\left(\\theta_{1} \\right)} + L_{2} \\cos{\\left(\\theta_{1} + \\theta_{2} \\right)}\\\\\\sin{\\left(\\theta_{1} + \\theta_{2} + \\theta_{3} \\right)} & \\cos{\\left(\\theta_{1} + \\theta_{2} + \\theta_{3} \\right)} & 0 & L_{1} \\sin{\\left(\\theta_{1} \\right)} + L_{2} \\sin{\\left(\\theta_{1} + \\theta_{2} \\right)}\\\\0 & 0 & 1 & 0\\\\0 & 0 & 0 & 1\\end{matrix}\\right]$",
            "text/plain": [
              "Matrix([\n",
              "[cos(theta1 + theta2 + theta3), -sin(theta1 + theta2 + theta3), 0, L1*cos(theta1) + L2*cos(theta1 + theta2)],\n",
              "[sin(theta1 + theta2 + theta3),  cos(theta1 + theta2 + theta3), 0, L1*sin(theta1) + L2*sin(theta1 + theta2)],\n",
              "[                            0,                              0, 1,                                        0],\n",
              "[                            0,                              0, 0,                                        1]])"
            ]
          },
          "metadata": {},
          "execution_count": 10
        }
      ]
    },
    {
      "cell_type": "markdown",
      "metadata": {
        "id": "1zoudM6osI9k"
      },
      "source": [
        "#Solução algébrica"
      ]
    },
    {
      "cell_type": "markdown",
      "metadata": {
        "id": "GTF4cKYFsMv6"
      },
      "source": [
        "Portanto, as transformações necessárias foram realizadas de forma que o ponto alvo é uma especificação do sistema de\n",
        "referência do punho em relação ao sistema de referência da base, ou seja, $ _{B}^{W}\\textrm{T} $ . \n",
        "\n",
        "Como trabalhamos\n",
        "com um manipulador planar, a especificação desses pontos alvos pode ser obtida com mais facilidade especificando-se três números: x, y e $\\phi $, sendo $\\phi $ a orientação do elo 3 no plano (em relação ao eixo + $ \\hat{X}$ ). Então, vamos considerar\n",
        "uma transformação com a estrutura:\n",
        "\n",
        "<center>\n",
        "\n",
        "![Braço planar de tres elos](https://drive.google.com/uc?export=view&id=1tW9VpprJHM136BK-x6OrUztbYr0Dhs0W)\n",
        "\n",
        "</center>\n",
        "\n",
        "Todos os alvos alcançáveis devem estar no subespaço indicado pela estrutura das equações da matriz acima. Igualando as matrizes, chegamos a um conjunto de quatro equações não lineares que devem ser resolvidas para  $ \\theta_1, \\theta_2, \\theta_3$ :\n",
        "\n",
        "$cos(\\phi) = cos(\\theta_1 + \\theta_2 + \\theta_3) $\n",
        "\n",
        "$sin(\\phi) = sin(\\theta_1 + \\theta_2 + \\theta3)  $\n",
        "\n",
        "$x = L_1cos(\\theta_1)+L_2cos(\\theta_1+\\theta_2)  $\n",
        "\n",
        "$y = L_1sin(\\theta_1)+L_2sin(\\theta_1+\\theta_2)  $"
      ]
    },
    {
      "cell_type": "markdown",
      "metadata": {
        "id": "b8bymW7htFXC"
      },
      "source": [
        "##Solução para $ \\theta_2  $"
      ]
    },
    {
      "cell_type": "markdown",
      "metadata": {
        "id": "cZFpkG9Ltb5_"
      },
      "source": [
        "Agora começamos nossa solução algébrica das equações acima. Considerando as equações para $ x$ e $y$, se elevarmos ao quadrado e somarmos as duas, obtemos:"
      ]
    },
    {
      "cell_type": "code",
      "metadata": {
        "id": "qWc9dKiDuEvG",
        "colab": {
          "base_uri": "https://localhost:8080/",
          "height": 38
        },
        "outputId": "89099f74-1a3d-40de-a395-9220ee508142"
      },
      "source": [
        "x = L1*sp.cos(theta1) + L2*sp.cos(theta1 + theta2)\n",
        "x"
      ],
      "execution_count": null,
      "outputs": [
        {
          "output_type": "execute_result",
          "data": {
            "text/latex": "$\\displaystyle L_{1} \\cos{\\left(\\theta_{1} \\right)} + L_{2} \\cos{\\left(\\theta_{1} + \\theta_{2} \\right)}$",
            "text/plain": [
              "L1*cos(theta1) + L2*cos(theta1 + theta2)"
            ]
          },
          "metadata": {},
          "execution_count": 5
        }
      ]
    },
    {
      "cell_type": "code",
      "metadata": {
        "id": "HvA5zrWCuFBG",
        "colab": {
          "base_uri": "https://localhost:8080/",
          "height": 38
        },
        "outputId": "08b76624-a8c6-415c-aa6b-0dde92382e72"
      },
      "source": [
        "y = L1*sp.sin(theta1) + L2*sp.sin(theta1 + theta2)\n",
        "y"
      ],
      "execution_count": null,
      "outputs": [
        {
          "output_type": "execute_result",
          "data": {
            "text/latex": "$\\displaystyle L_{1} \\sin{\\left(\\theta_{1} \\right)} + L_{2} \\sin{\\left(\\theta_{1} + \\theta_{2} \\right)}$",
            "text/plain": [
              "L1*sin(theta1) + L2*sin(theta1 + theta2)"
            ]
          },
          "metadata": {},
          "execution_count": 6
        }
      ]
    },
    {
      "cell_type": "code",
      "metadata": {
        "id": "eJO7QA19uFMh",
        "colab": {
          "base_uri": "https://localhost:8080/",
          "height": 38
        },
        "outputId": "ad8bfc31-8da8-4aa2-fde3-4004c8a83ab7"
      },
      "source": [
        "R = x**2 + y**2\n",
        "R = R.simplify()\n",
        "R"
      ],
      "execution_count": null,
      "outputs": [
        {
          "output_type": "execute_result",
          "data": {
            "text/latex": "$\\displaystyle L_{1}^{2} + 2 L_{1} L_{2} \\cos{\\left(\\theta_{2} \\right)} + L_{2}^{2}$",
            "text/plain": [
              "L1**2 + 2*L1*L2*cos(theta2) + L2**2"
            ]
          },
          "metadata": {},
          "execution_count": 7
        }
      ]
    },
    {
      "cell_type": "markdown",
      "metadata": {
        "id": "IWgB8a2uuhzd"
      },
      "source": [
        "Portanto, \n",
        "\n",
        "$ x² + y² = {L_{1}}^{2} + 2L_1L_2cos(\\theta_2) + {L_{2}}^{2}  $\n",
        "\n",
        "Resolvendo para $ cos(\\theta_2) $, obtemos :\n",
        "\n",
        "$ cos(\\theta_2) = \\frac{x² + y² - {L_{1}}^{2} - {L_{2}}^{2} }{2L_1L_2} $\n",
        "\n",
        "Ou seja:\n",
        "\n",
        "$ \\theta_2 = arccos(\\frac{x² + y² - {L_{1}}^{2} - {L_{2}}^{2} }{2L_1L_2}) $\n",
        "\n",
        "\n",
        "Para que haja uma solução, o lado direito deve ter um valor entre –1 e 1. No algoritmo de solução, essa restrição seria verificada nesse ponto para se saber se uma solução existe. Fisicamente, se a restrição não é satisfeita, o ponto alvo está longe demais para que o manipulador o alcance.\n",
        "Presumindo que a meta está no espaço de trabalho, escrevemos a expressão para $ sin(\\theta_2) $ como:\n",
        "\n",
        "$ sin(\\theta_2) = \\pm {{\\sqrt{1 - cos(\\theta_2})²}}  $\n",
        "\n",
        "<br>\n",
        "\n",
        "<center>\n",
        "\n",
        "![Braço planar de tres elos](https://drive.google.com/uc?export=view&id=1C8pcqVT4eATagjIESUpkb0Bt9_Z1GvFV)\n",
        "\n",
        "<figcaption>Figura  - Braço planar: Notação esquemática simples</figcaption>\n",
        "\n",
        "</center>\n",
        "\n",
        "A escolha dos sinais corresponde à solução múltipla na qual podemos escolher a solução de “cotovelo para cima” ou de “cotovelo para baixo”.\n",
        "\n",
        "<br>\n",
        "\n",
        "E então, computamos $ \\theta_2 $ usando a rotina de arco tangente com dois argumentos:\n",
        "\n",
        "$ \\theta_2 = Atan2(sin(\\theta_2), cos(\\theta_2))  $\n",
        "\n",
        "Portanto\n",
        "\n",
        "$ \\theta_2 = \\pm arctang \\frac{ sin(\\theta_2)}{ cos(\\theta_2)}$\n",
        "\n",
        "\n",
        "Para determinar $ \\theta_2 $ , usamos um dos métodos recorrentes para resolver relações cinemáticas do tipo que surge com frequência, a saber,\n",
        "determinar tanto o seno quanto o cosseno do ângulo de junta desejado e, em seguida, aplicar o arco tangente de dois argumentos. Isso garante que encontramos todas as soluções e que o ângulo\n",
        "resolvido está no quadrante adequado.\n"
      ]
    },
    {
      "cell_type": "markdown",
      "metadata": {
        "id": "hXFf1VX4up7E"
      },
      "source": [
        "##Solução para $ \\theta_1 $"
      ]
    },
    {
      "cell_type": "markdown",
      "metadata": {
        "id": "q4BAHLpquw11"
      },
      "source": [
        "\n",
        "Tendo encontrado $\\theta_2 $ , podemos resolver as equações para $ \\theta_1 $. Escrevemos na forma:\n",
        "\n",
        "$ x $ = $ L_{1}cos(\\theta_1) + L_{2}cos(\\theta_1 + \\theta_2) \\rightarrow $ $ x $ = $ k_{1}cos(\\theta_1) - k_{2}sin(\\theta_1) $ \n",
        "\n",
        "$ y $ = $ L_{1}sin(\\theta_1) + L_{2}sin(\\theta_1 + \\theta_2) \\rightarrow $ $ y $ = $ k_{1}sin(\\theta_1) + k_{2}cos(\\theta_1) $\n",
        "\n",
        "Em que\n",
        "\n",
        "$ k_1 = L_1 + L_2cos(\\theta_2) $\n",
        "\n",
        "$ k_2 = L_2sin(\\theta_2) $\n",
        "\n",
        "<br>\n",
        "\n",
        "A fim de resolver uma equação nessa forma, fazemos uma troca de variáveis. Na realidade,\n",
        "estamos mudando a maneira de escrevermos as constantes $ k_1 e k_2 $.\n",
        "\n",
        "Se\n",
        "$ r = +\\sqrt{k_1² + k_2²} $\n",
        "\n",
        "e\n",
        "\n",
        "$ \\gamma = Atan2(k_2, k_1), $\n",
        "\n",
        "então \n",
        "\n",
        "$ k_1 = rcos(\\gamma), $\n",
        "\n",
        "$ k_2 = rsin(\\gamma), $\n",
        "\n",
        "\n",
        "As equações $x$ e $y$ podem agora ser escritas como\n",
        "\n",
        "$ x $ = $ rcos(\\gamma)cos(\\theta_1) - rsin(\\gamma)sin(\\theta_1) $ $ \\rightarrow $ $\\frac{x}{r} = cos(\\gamma)cos(\\theta_1) - sin(\\gamma)sin(\\theta_1) $ \n",
        "\n",
        "$ y $ = $ rcos(\\gamma)sin(\\theta_1) + rsin(\\gamma)cos(\\theta_1) $ $ \\rightarrow $ $\\frac{y}{r} = cos(\\gamma)sin(\\theta_1) + sin(\\gamma)cos(\\theta_1) $ \n",
        "\n",
        "então\n",
        "\n",
        "$\\frac{x}{r} = cos(\\gamma + \\theta_1) $ \n",
        "\n",
        "$\\frac{y}{r} = sin(\\gamma + \\theta_1) $ \n",
        "\n",
        "Usando o arco tangente de dois argumentos, obtemos\n",
        "\n",
        "$ \\gamma + \\theta_1 = Atan2(\\frac{y}{r}, \\frac{x}{r} )$\n",
        "\n",
        "Com isso\n",
        "\n",
        "$  \\theta_1 = arctang(\\frac{y}{x}) - \\gamma$\n",
        "\n",
        "e assim\n",
        "\n",
        "$ \\theta_1 = arctang(\\frac{y}{x}) - arctang(\\frac{k_2}{k_1}) $"
      ]
    },
    {
      "cell_type": "markdown",
      "metadata": {
        "id": "aOxJOwAWvRL4"
      },
      "source": [
        "##Solução para $ \\theta_3 $"
      ]
    },
    {
      "cell_type": "markdown",
      "metadata": {
        "id": "kuOuMC1Fv3P7"
      },
      "source": [
        "Por fim, com base em nas equações, podemos resolver para a soma de $\\theta_1$ a $ \\theta_3 $:\n",
        "\n",
        "$ \\theta_1 + \\theta_2 + \\theta3 = Atan2(sin(\\phi), cos(\\phi)) $ = $\\phi $\n",
        "\n",
        "A partir daí, podemos resolver $ \\theta_3 $ , porque conhecemos os primeiros dois ângulos."
      ]
    },
    {
      "cell_type": "markdown",
      "metadata": {
        "id": "fnffzd8mlT5r"
      },
      "source": [
        "# Solução geométrica"
      ]
    },
    {
      "cell_type": "markdown",
      "metadata": {
        "id": "ED7citfmoM-V"
      },
      "source": [
        "Na abordagem geométrica para encontrar a solução de um manipulador, procuramos decompor a geometria espacial do braço em vários problemas de geometria plana. Para muitos manipuladores (em particular, quando $ \\alpha_i = 0 $ ou $ \\pm90 $), isso consegue ser feito com bastante facilidade. Os ângulos das juntas podem ser resolvidos usando-se as ferramentas da geometria plana. Para o braço com três graus de liberdade mostrado na Figura, como é um braço planar, podemos aplicar a geometria plana diretamente para encontrar uma solução.\n",
        "\n",
        "<center>\n",
        "\n",
        "![Braço planar de tres elos](https://drive.google.com/uc?export=view&id=1C8pcqVT4eATagjIESUpkb0Bt9_Z1GvFV)\n",
        "\n",
        "<figcaption>Figura 2 - Braço planar: Notação esquemática simples</figcaption>\n",
        "\n",
        "</center>"
      ]
    },
    {
      "cell_type": "markdown",
      "metadata": {
        "id": "uYbB00SDmaGd"
      },
      "source": [
        "##Solução para $ \\theta_2 $"
      ]
    },
    {
      "cell_type": "markdown",
      "metadata": {
        "id": "PKb5RW8YZyH0"
      },
      "source": [
        "A Figura mostra o triângulo formado por $ l_1 $ , $ l_2 $ e a linha que une a origem do sistema de referência {0} com a origem do sistema de referência {3}.\n",
        "\n",
        "<center>\n",
        "\n",
        "![](https://drive.google.com/uc?export=view&id=1B9vHCX89ki5fZAuy16862m1QOlxgl4Dr)\n",
        "\n",
        "<figcaption>Figura 2 - Braço planar: Notação esquemática simples</figcaption>\n",
        "</center>\n",
        "\n",
        "As linhas pontilhadas representam a outra configuração possível do triângulo que levaria à mesma posição do sistema de referência {3}. Considerando o triângulo contínuo, podemos aplicar a “lei dos cossenos” para resolver $ sin(\\theta_2) $ :\n"
      ]
    },
    {
      "cell_type": "markdown",
      "metadata": {
        "id": "hRvkQ1_SDOOS"
      },
      "source": [
        "### Lembrete"
      ]
    },
    {
      "cell_type": "markdown",
      "metadata": {
        "id": "X0qmy2psDSZ5"
      },
      "source": [
        "<center>\n",
        "\n",
        "![Braço planar de tres elos](https://drive.google.com/uc?export=view&id=1IVv1msEsuyxVS0c_OUIrfyOdcD3IqV58)\n",
        "\n",
        "<figcaption>Figura 2 - Braço planar: Notação esquemática simples</figcaption>\n",
        "</center>"
      ]
    },
    {
      "cell_type": "markdown",
      "metadata": {
        "id": "d2ulbrw_DZSi"
      },
      "source": [
        "###Solução"
      ]
    },
    {
      "cell_type": "markdown",
      "metadata": {
        "id": "HRIF7xSxDbgr"
      },
      "source": [
        "Portanto, de acordo com o teorema de Pitagoras temos:\n",
        "\n",
        "$ H² = x² + y²  $\n",
        "\n",
        "E, de acordo com a lei dos cossenos temos:\n",
        "\n",
        "$  H² = L_2² + L_1² -2L_2L_1cos(\\alpha) \\rightarrow \\alpha = 180 - \\theta_2$\n",
        "\n",
        "Igualando as duas equações encontramos:\n",
        "\n",
        "$ x² + y² = L_2² + L_1² -2L_2L_1cos(180 - \\theta_2)  $\n",
        "\n",
        "Agora, $ cos(180 - \\theta_2 ) = -cos(\\theta_2) $, de forma que temos:\n",
        "\n",
        "$ cos(\\theta_2) = \\frac{x² + y² - l_1² - l_2²}{2l_1l_2} $\n",
        "\n",
        "Para que esse triângulo exista, a distância ao ponto alvo deve ser menor ou igual à soma do comprimento dos elos, $ l_1 + l_2 $. Em um algoritmo computacional, essa condição seria verificada neste ponto, para confirmar a existência de soluções. Tal condição não é satisfeita quando o ponto\n",
        "alvo está fora do alcance do manipulador. Presumindo que uma solução existe, essa equação é resolvida por um valor de $ \\theta_2$ que está entre 0 e –180 graus, porque somente para esses valores o triângulo da Figura existe. A outra solução possível (indicada pelo triângulo pontilhado) é encontrada por simetria como $ \\theta_2' = -\\theta_2 $."
      ]
    },
    {
      "cell_type": "markdown",
      "metadata": {
        "id": "Qb_9F8Htmd7b"
      },
      "source": [
        "##Solução para $ \\theta_1  $"
      ]
    },
    {
      "cell_type": "markdown",
      "metadata": {
        "id": "cqOVkNRymHhM"
      },
      "source": [
        "Para resolver $ \\theta_1 $ , encontramos expressões para os ângulos $ \\psi $ e $\\beta $, conforme a Figura.\n",
        "\n",
        "<center>\n",
        "\n",
        "![](https://drive.google.com/uc?export=view&id=1B9vHCX89ki5fZAuy16862m1QOlxgl4Dr)\n",
        "\n",
        "<figcaption>Figura 2 - Braço planar: Notação esquemática simples</figcaption>\n",
        "</center>\n",
        "\n",
        "Então, temos:\n",
        "\n",
        "$ \\theta_1 = \\beta \\pm \\psi $\n",
        "\n",
        "onde o sinal positivo é usado se $ \\theta_2 > 0 $ e o negativo se $ \\theta_2 < 0 $.\n",
        "\n",
        "Primeiro, $ \\beta $ pode estar em qualquer quadrante, dependendo dos sinais de $x$ e $y$ . Portanto, temos de usar um arco tangente de dois argumentos:\n",
        "\n",
        "$ \\beta = Atan2(y, x)  $\n",
        "\n",
        "Aplicamos mais uma vez a lei dos cossenos para encontrar $ \\psi $:\n",
        "\n",
        "$ cos(\\psi) = \\frac{x² + y² + l_1² - l_2²}{2l_1\\sqrt{x² + y²}} $\n",
        "\n",
        "Aqui, o arco cosseno deve ser resolvido de forma que $ 0 ≤ \\psi ≤ 180º$ para que a geometria que leva a equação seja preservada. São considerações típicas quando usamos uma abordagem geo­métrica – temos de aplicar as fórmulas que deduzimos somente em certo âmbito das variáveis, para que a geometria seja preservada. \n",
        "\n"
      ]
    },
    {
      "cell_type": "markdown",
      "metadata": {
        "id": "jfA5gOdCqcfQ"
      },
      "source": [
        "##Solucão para $ \\theta_3 $"
      ]
    },
    {
      "cell_type": "markdown",
      "metadata": {
        "id": "HSxd4sxrqjnE"
      },
      "source": [
        "<center>\n",
        "\n",
        "![](https://drive.google.com/uc?export=view&id=1B2FYyyHJFMoNYkFpYPLcyI0AvX6k8L4X)\n",
        "<figcaption>Figura 1 - Braço planar de três elos</figcaption>\n",
        "</center>\n",
        "\n",
        "Sabemos que os ângulos de um plano se somam, portanto, a soma dos três ângulos de juntas deve ser a orientação do último elo:\n",
        "\n",
        "$ \\theta_3 + \\theta_2 + \\theta_1 = \\phi $\n",
        "\n",
        "Essa equação é resolvida para $ \\theta_3 $ a fim de completar nossa solução.\n",
        "\n",
        "$ \\theta_3 = \\phi - (\\theta_2 + \\theta_1)  $\n",
        "\n"
      ]
    },
    {
      "cell_type": "markdown",
      "metadata": {
        "id": "w8v__a-pB-Yx"
      },
      "source": [
        "## Resposta\n",
        "\n"
      ]
    },
    {
      "cell_type": "markdown",
      "metadata": {
        "id": "llis8NfjCCm-"
      },
      "source": [
        "$ \\theta_1 =  Atan2(y, x)  \\pm arccos (\\frac{x² + y² + l_1² - l_2²}{2l_1\\sqrt{x² + y²}}) $\n",
        "\n",
        "$ \\theta_2 = arccos(\\frac{x² + y² - l_1² - l_2²}{2l_1l_2}) $ \n",
        "\n",
        "$ \\theta_3 = \\phi - (\\theta_2 + \\theta_1)  $"
      ]
    },
    {
      "cell_type": "markdown",
      "metadata": {
        "id": "3zO37WHCzre8"
      },
      "source": [
        "#Referências"
      ]
    },
    {
      "cell_type": "markdown",
      "metadata": {
        "id": "l02SzRmWzvKA"
      },
      "source": [
        "CRAIG, John J. **Robótica**. 3. ed. São PAulo: Pearson Education do Brasil, 2012."
      ]
    }
  ]
}